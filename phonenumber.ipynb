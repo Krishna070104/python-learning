{
 "cells": [
  {
   "cell_type": "code",
   "execution_count": 15,
   "id": "c5891a20-cd85-462e-9572-d351563635e3",
   "metadata": {},
   "outputs": [
    {
     "data": {
      "text/plain": [
       "'India'"
      ]
     },
     "execution_count": 15,
     "metadata": {},
     "output_type": "execute_result"
    }
   ],
   "source": [
    "import phonenumbers\n",
    "from phonenumbers import geocoder\n",
    "number = phonenumbers.parse(\"+919821854980\",\"CH\")\n",
    "geocoder.description_for_number(number,\"en\")"
   ]
  },
  {
   "cell_type": "code",
   "execution_count": 17,
   "id": "2f36d582-46b0-43d8-9a08-ffde179654b0",
   "metadata": {},
   "outputs": [
    {
     "data": {
      "text/plain": [
       "'Idea'"
      ]
     },
     "execution_count": 17,
     "metadata": {},
     "output_type": "execute_result"
    }
   ],
   "source": [
    "from phonenumbers import carrier\n",
    "ro_num = phonenumbers.parse(\"+917891854980\",\"RO\")\n",
    "carrier.name_for_number(ro_num,\"en\")"
   ]
  },
  {
   "cell_type": "markdown",
   "id": "211f7a1e-e83e-4650-8b5f-467faf058395",
   "metadata": {
    "jp-MarkdownHeadingCollapsed": true
   },
   "source": []
  }
 ],
 "metadata": {
  "kernelspec": {
   "display_name": "Python [conda env:base] *",
   "language": "python",
   "name": "conda-base-py"
  },
  "language_info": {
   "codemirror_mode": {
    "name": "ipython",
    "version": 3
   },
   "file_extension": ".py",
   "mimetype": "text/x-python",
   "name": "python",
   "nbconvert_exporter": "python",
   "pygments_lexer": "ipython3",
   "version": "3.12.7"
  }
 },
 "nbformat": 4,
 "nbformat_minor": 5
}
